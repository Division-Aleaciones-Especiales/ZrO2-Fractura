{
 "cells": [
  {
   "cell_type": "code",
   "execution_count": 1,
   "id": "c11a72c3",
   "metadata": {},
   "outputs": [],
   "source": [
    "from ase.build import bulk"
   ]
  },
  {
   "cell_type": "code",
   "execution_count": 2,
   "id": "cb0ae0fd",
   "metadata": {},
   "outputs": [],
   "source": [
    "zrhcp = bulk('Zr',crystalstructure='hcp')"
   ]
  },
  {
   "cell_type": "code",
   "execution_count": 3,
   "id": "1f5d1340",
   "metadata": {},
   "outputs": [],
   "source": [
    "from ase.visualize.plot import plot_atoms\n",
    "from ase.visualize import view"
   ]
  },
  {
   "cell_type": "code",
   "execution_count": 4,
   "id": "7618bc79",
   "metadata": {},
   "outputs": [
    {
     "data": {
      "text/plain": [
       "<Popen: returncode: None args: ['/data/Anaconda/ifermi_pymatgen/bin/python',...>"
      ]
     },
     "execution_count": 4,
     "metadata": {},
     "output_type": "execute_result"
    }
   ],
   "source": [
    "view(zrhcp)"
   ]
  },
  {
   "cell_type": "code",
   "execution_count": 5,
   "id": "5e708c21",
   "metadata": {},
   "outputs": [],
   "source": [
    "zrortho = bulk('Zr',crystalstructure='hcp', orthorhombic=True)"
   ]
  },
  {
   "cell_type": "code",
   "execution_count": 6,
   "id": "dc62f79c",
   "metadata": {},
   "outputs": [
    {
     "data": {
      "text/plain": [
       "<Popen: returncode: None args: ['/data/Anaconda/ifermi_pymatgen/bin/python',...>"
      ]
     },
     "execution_count": 6,
     "metadata": {},
     "output_type": "execute_result"
    }
   ],
   "source": [
    "view(zrortho)"
   ]
  },
  {
   "cell_type": "code",
   "execution_count": 7,
   "id": "2b523437",
   "metadata": {},
   "outputs": [],
   "source": [
    "zrhcp.write('zrhcp.vasp', direct=True, sort=True)"
   ]
  },
  {
   "cell_type": "code",
   "execution_count": 8,
   "id": "5965f53b",
   "metadata": {},
   "outputs": [],
   "source": [
    "zrortho.write('zrortho.vasp', direct=True, sort=True)"
   ]
  },
  {
   "cell_type": "code",
   "execution_count": 9,
   "id": "cb2b4d95",
   "metadata": {},
   "outputs": [],
   "source": [
    "from ase.visualize.plot import plot_atoms"
   ]
  },
  {
   "cell_type": "code",
   "execution_count": 10,
   "id": "e2c23d2a",
   "metadata": {},
   "outputs": [
    {
     "data": {
      "text/plain": [
       "<AxesSubplot:>"
      ]
     },
     "execution_count": 10,
     "metadata": {},
     "output_type": "execute_result"
    },
    {
     "data": {
      "image/png": "[encoded data removed]",
      "text/plain": [
       "<Figure size 432x288 with 1 Axes>"
      ]
     },
     "metadata": {
      "needs_background": "light"
     },
     "output_type": "display_data"
    }
   ],
   "source": [
    "plot_atoms(zrhcp)"
   ]
  },
  {
   "cell_type": "code",
   "execution_count": 11,
   "id": "a9ca8922",
   "metadata": {},
   "outputs": [],
   "source": [
    "from ase.build.surfaces_with_termination import surfaces_with_termination"
   ]
  },
  {
   "cell_type": "code",
   "execution_count": 12,
   "id": "f4909cd7",
   "metadata": {},
   "outputs": [],
   "source": [
    "Zr11m20 = surfaces_with_termination(zrortho, [1,0,0], 5, vacuum = 10.0, termination='Zr' )"
   ]
  },
  {
   "cell_type": "code",
   "execution_count": 13,
   "id": "c14f5b2a",
   "metadata": {},
   "outputs": [
    {
     "data": {
      "text/plain": [
       "<Popen: returncode: None args: ['/data/Anaconda/ifermi_pymatgen/bin/python',...>"
      ]
     },
     "execution_count": 13,
     "metadata": {},
     "output_type": "execute_result"
    }
   ],
   "source": [
    "view(Zr11m20)"
   ]
  },
  {
   "cell_type": "markdown",
   "id": "a6f5b7a3",
   "metadata": {},
   "source": [
    "Lo que les queda a ustedes ahora es:\n",
    "- jugar con las superficies de todos los planos\n",
    "- investigar la  función rotate. "
   ]
  }
 ],
 "metadata": {
  "kernelspec": {
   "display_name": "Python 3",
   "language": "python",
   "name": "python3"
  },
  "language_info": {
   "codemirror_mode": {
    "name": "ipython",
    "version": 3
   },
   "file_extension": ".py",
   "mimetype": "text/x-python",
   "name": "python",
   "nbconvert_exporter": "python",
   "pygments_lexer": "ipython3",
   "version": "3.9.7"
  }
 },
 "nbformat": 4,
 "nbformat_minor": 5
}
