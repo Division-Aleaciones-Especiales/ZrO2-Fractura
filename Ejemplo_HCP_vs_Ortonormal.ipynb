{
 "cells": [
  {
   "cell_type": "code",
   "execution_count": 1,
   "id": "c11a72c3",
   "metadata": {},
   "outputs": [],
   "source": [
    "from ase.build import bulk"
   ]
  },
  {
   "cell_type": "code",
   "execution_count": 2,
   "id": "cb0ae0fd",
   "metadata": {},
   "outputs": [],
   "source": [
    "zrhcp = bulk('Zr',crystalstructure='hcp')"
   ]
  },
  {
   "cell_type": "code",
   "execution_count": 5,
   "id": "1f5d1340",
   "metadata": {},
   "outputs": [],
   "source": [
    "from ase.visualize.plot import plot_atoms\n",
    "from ase.visualize import view"
   ]
  },
  {
   "cell_type": "code",
   "execution_count": 6,
   "id": "7618bc79",
   "metadata": {},
   "outputs": [
    {
     "data": {
      "text/plain": [
       "<Popen: returncode: None args: ['/data/Anaconda/ifermi_pymatgen/bin/python',...>"
      ]
     },
     "execution_count": 6,
     "metadata": {},
     "output_type": "execute_result"
    }
   ],
   "source": [
    "view(zrhcp)"
   ]
  },
  {
   "cell_type": "code",
   "execution_count": 7,
   "id": "5e708c21",
   "metadata": {},
   "outputs": [],
   "source": [
    "zrortho = bulk('Zr',crystalstructure='hcp', orthorhombic=True)"
   ]
  },
  {
   "cell_type": "code",
   "execution_count": 12,
   "id": "dc62f79c",
   "metadata": {},
   "outputs": [
    {
     "data": {
      "text/plain": [
       "<Popen: returncode: None args: ['/data/Anaconda/ifermi_pymatgen/bin/python',...>"
      ]
     },
     "execution_count": 12,
     "metadata": {},
     "output_type": "execute_result"
    }
   ],
   "source": [
    "view(zrortho)"
   ]
  },
  {
   "cell_type": "code",
   "execution_count": 9,
   "id": "2b523437",
   "metadata": {},
   "outputs": [],
   "source": [
    "zrhcp.write('zrhcp.vasp', direct=True, sort=True)"
   ]
  },
  {
   "cell_type": "code",
   "execution_count": 10,
   "id": "5965f53b",
   "metadata": {},
   "outputs": [],
   "source": [
    "zrortho.write('zrortho.vasp', direct=True, sort=True)"
   ]
  },
  {
   "cell_type": "code",
   "execution_count": 13,
   "id": "cb2b4d95",
   "metadata": {},
   "outputs": [],
   "source": [
    "from ase.visualize.plot import plot_atoms"
   ]
  },
  {
   "cell_type": "code",
   "execution_count": 14,
   "id": "e2c23d2a",
   "metadata": {},
   "outputs": [
    {
     "data": {
      "text/plain": [
       "<AxesSubplot:>"
      ]
     },
     "execution_count": 14,
     "metadata": {},
     "output_type": "execute_result"
    },
    {
     "data": {
      "image/png": "[encoded data removed]",
      "text/plain": [
       "<Figure size 432x288 with 1 Axes>"
      ]
     },
     "metadata": {
      "needs_background": "light"
     },
     "output_type": "display_data"
    }
   ],
   "source": [
    "plot_atoms(zrhcp)"
   ]
  },
  {
   "cell_type": "code",
   "execution_count": 19,
   "id": "a9ca8922",
   "metadata": {},
   "outputs": [],
   "source": [
    "from ase.build.surfaces_with_termination import surfaces_with_termination"
   ]
  },
  {
   "cell_type": "code",
   "execution_count": 21,
   "id": "f4909cd7",
   "metadata": {},
   "outputs": [],
   "source": [
    "Zr11m20 = surfaces_with_termination(zrortho, [1,0,0], 5, vacuum = 10.0, termination='Zr' )"
   ]
  },
  {
   "cell_type": "code",
   "execution_count": 22,
   "id": "c14f5b2a",
   "metadata": {},
   "outputs": [
    {
     "data": {
      "text/plain": [
       "<Popen: returncode: None args: ['/data/Anaconda/ifermi_pymatgen/bin/python',...>"
      ]
     },
     "execution_count": 22,
     "metadata": {},
     "output_type": "execute_result"
    }
   ],
   "source": [
    "view(Zr11m20)"
   ]
  },
  {
   "cell_type": "code",
   "execution_count": 23,
   "id": "bced0b4f",
   "metadata": {},
   "outputs": [],
   "source": [
    "from ase.build import rotate"
   ]
  },
  {
   "cell_type": "code",
   "execution_count": 24,
   "id": "a8c302e6",
   "metadata": {},
   "outputs": [
    {
     "ename": "TypeError",
     "evalue": "rotate() missing 5 required positional arguments: 'atoms', 'a1', 'a2', 'b1', and 'b2'",
     "output_type": "error",
     "traceback": [
      "\u001b[0;31m---------------------------------------------------------------------------\u001b[0m",
      "\u001b[0;31mTypeError\u001b[0m                                 Traceback (most recent call last)",
      "\u001b[0;32m/tmp/ipykernel_15453/818211877.py\u001b[0m in \u001b[0;36m<module>\u001b[0;34m\u001b[0m\n\u001b[0;32m----> 1\u001b[0;31m \u001b[0mrotated_Zr11m20\u001b[0m \u001b[0;34m=\u001b[0m \u001b[0mrotate\u001b[0m\u001b[0;34m(\u001b[0m\u001b[0;34m)\u001b[0m\u001b[0;34m\u001b[0m\u001b[0;34m\u001b[0m\u001b[0m\n\u001b[0m\u001b[1;32m      2\u001b[0m \u001b[0mview\u001b[0m\u001b[0;34m(\u001b[0m\u001b[0;34m)\u001b[0m\u001b[0;34m\u001b[0m\u001b[0;34m\u001b[0m\u001b[0m\n\u001b[1;32m      3\u001b[0m \u001b[0mrotated_Zr11m20\u001b[0m\u001b[0;34m.\u001b[0m\u001b[0mwrite\u001b[0m\u001b[0;34m(\u001b[0m\u001b[0;34m'rotated.vasp'\u001b[0m\u001b[0;34m,\u001b[0m \u001b[0mformat\u001b[0m\u001b[0;34m=\u001b[0m\u001b[0;34m'vasp'\u001b[0m\u001b[0;34m,\u001b[0m\u001b[0mdirect\u001b[0m\u001b[0;34m=\u001b[0m\u001b[0;32mTrue\u001b[0m\u001b[0;34m,\u001b[0m \u001b[0msort\u001b[0m\u001b[0;34m=\u001b[0m\u001b[0;32mTrue\u001b[0m\u001b[0;34m)\u001b[0m\u001b[0;34m\u001b[0m\u001b[0;34m\u001b[0m\u001b[0m\n",
      "\u001b[0;31mTypeError\u001b[0m: rotate() missing 5 required positional arguments: 'atoms', 'a1', 'a2', 'b1', and 'b2'"
     ]
    }
   ],
   "source": [
    "rotated_Zr11m20 = rotate()\n",
    "view()\n",
    "rotated_Zr11m20.write('rotated.vasp', format='vasp',direct=True, sort=True)\n"
   ]
  },
  {
   "cell_type": "markdown",
   "id": "a6f5b7a3",
   "metadata": {},
   "source": [
    "Lo que les queda a ustedes ahora es:\n",
    "- jugar con las superficies de todos los planos\n",
    "- investigar la  función rotate. "
   ]
  }
 ],
 "metadata": {
  "kernelspec": {
   "display_name": "Python 3 (ipykernel)",
   "language": "python",
   "name": "python3"
  },
  "language_info": {
   "codemirror_mode": {
    "name": "ipython",
    "version": 3
   },
   "file_extension": ".py",
   "mimetype": "text/x-python",
   "name": "python",
   "nbconvert_exporter": "python",
   "pygments_lexer": "ipython3",
   "version": "3.9.5"
  }
 },
 "nbformat": 4,
 "nbformat_minor": 5
}
