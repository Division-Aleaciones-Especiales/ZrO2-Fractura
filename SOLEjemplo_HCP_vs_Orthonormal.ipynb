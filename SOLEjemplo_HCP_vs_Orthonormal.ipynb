{
 "cells": [
  {
   "cell_type": "code",
   "execution_count": 20,
   "id": "1a3d952a-74d7-4d09-85e8-4058e7ed7f3e",
   "metadata": {},
   "outputs": [],
   "source": [
    "from ase.build import bulk"
   ]
  },
  {
   "cell_type": "code",
   "execution_count": 21,
   "id": "8e6301e0-b26c-433e-8e5f-9f0e44a6b72b",
   "metadata": {},
   "outputs": [],
   "source": [
    "zrhcp = bulk('Zr' , crystalstructure='hcp')\n",
    "#Con este comando genero la celda hcp"
   ]
  },
  {
   "cell_type": "code",
   "execution_count": 22,
   "id": "5d9c6078-8869-49a6-b2e4-f107b6270f28",
   "metadata": {},
   "outputs": [],
   "source": [
    "from ase.visualize.plot import plot_atoms\n",
    "from ase.visualize import view"
   ]
  },
  {
   "cell_type": "code",
   "execution_count": 23,
   "id": "d4844711-59c5-4647-ab1a-351d1b97073b",
   "metadata": {},
   "outputs": [
    {
     "data": {
      "text/plain": [
       "<Popen: returncode: None args: ['C:\\\\WPy64-39100\\\\python-3.9.10.amd64\\\\pytho...>"
      ]
     },
     "execution_count": 23,
     "metadata": {},
     "output_type": "execute_result"
    }
   ],
   "source": [
    "view(zrhcp)"
   ]
  },
  {
   "cell_type": "code",
   "execution_count": 24,
   "id": "8fd51230-9a03-4e44-8b6b-4c7c9c4454c0",
   "metadata": {},
   "outputs": [],
   "source": [
    "zrortho = bulk('Zr',crystalstructure='hcp', orthorhombic=True)\n",
    "#Con este comando genero la celda ortonormal"
   ]
  },
  {
   "cell_type": "code",
   "execution_count": 25,
   "id": "e7f7d2c2-a781-4ef5-aa0a-a10aa09ec2a8",
   "metadata": {},
   "outputs": [
    {
     "data": {
      "text/plain": [
       "<Popen: returncode: None args: ['C:\\\\WPy64-39100\\\\python-3.9.10.amd64\\\\pytho...>"
      ]
     },
     "execution_count": 25,
     "metadata": {},
     "output_type": "execute_result"
    }
   ],
   "source": [
    "view(zrortho)"
   ]
  },
  {
   "cell_type": "code",
   "execution_count": 26,
   "id": "a83fce7a-1dbf-470f-9b8b-539002bae089",
   "metadata": {},
   "outputs": [],
   "source": [
    "zrhcp.write('zrhcp.vasp', direct=True, sort=True)\n",
    "#Lo guardo en un archivo con formato vasp"
   ]
  },
  {
   "cell_type": "code",
   "execution_count": 27,
   "id": "2c06768c-4fcc-4be1-bb32-c8f8f64fe345",
   "metadata": {},
   "outputs": [],
   "source": [
    "zrortho.write('zrortho.vasp',direct=True, sort=True)\n",
    "#Lo guardo en un archivo con formato vasp"
   ]
  },
  {
   "cell_type": "code",
   "execution_count": 28,
   "id": "4512b1ae-7c6f-4e51-bf2c-057a8c814d09",
   "metadata": {},
   "outputs": [
    {
     "data": {
      "text/plain": [
       "<AxesSubplot:>"
      ]
     },
     "execution_count": 28,
     "metadata": {},
     "output_type": "execute_result"
    },
    {
     "data": {
      "image/png": "[encoded data removed]",
      "text/plain": [
       "<Figure size 432x288 with 1 Axes>"
      ]
     },
     "metadata": {
      "needs_background": "light"
     },
     "output_type": "display_data"
    }
   ],
   "source": [
    "plot_atoms(zrhcp)"
   ]
  },
  {
   "cell_type": "code",
   "execution_count": 29,
   "id": "ef65390a-dd85-450c-a352-3a80b8ea8618",
   "metadata": {},
   "outputs": [
    {
     "data": {
      "text/plain": [
       "<AxesSubplot:>"
      ]
     },
     "execution_count": 29,
     "metadata": {},
     "output_type": "execute_result"
    },
    {
     "data": {
      "image/png": "[encoded data removed]",
      "text/plain": [
       "<Figure size 432x288 with 1 Axes>"
      ]
     },
     "metadata": {
      "needs_background": "light"
     },
     "output_type": "display_data"
    }
   ],
   "source": [
    "plot_atoms(zrortho)"
   ]
  },
  {
   "cell_type": "code",
   "execution_count": 30,
   "id": "68928000-6c27-443d-9b3e-28ae625729d3",
   "metadata": {},
   "outputs": [],
   "source": [
    "from ase.build.surfaces_with_termination import surfaces_with_termination\n"
   ]
  },
  {
   "cell_type": "code",
   "execution_count": 31,
   "id": "7e47a3ab-dc5f-4eb6-baf5-e037ea412de5",
   "metadata": {},
   "outputs": [],
   "source": [
    "Zr11m20 = surfaces_with_termination(zrortho, (1,0,0), 5,vacuum=10, termination='Zr')\n"
   ]
  },
  {
   "cell_type": "code",
   "execution_count": 32,
   "id": "988d232b-c504-4349-8e16-ea3b27125468",
   "metadata": {},
   "outputs": [],
   "source": [
    "from ase.build import rotate\n"
   ]
  },
  {
   "cell_type": "code",
   "execution_count": 34,
   "id": "bbe2eb77-e5f1-4139-be8b-ba6731acadb7",
   "metadata": {},
   "outputs": [],
   "source": [
    "rotated = []\n",
    "dang = 15\n",
    "for ang in range(0, 91, dang):\n",
    "    rotated.append(Zr11m20[0].copy())#En cada iteracion, genero una copia del elemento de la lista  y l oagrego al final de la lista (rotado)\n",
    "    rotated[-1].center() #Centro la figura en la celda\n",
    "    rotated[-1].rotate(ang, 'z', center=\"com\")#Roto sobre el eje z y al rededor del centro de masa.\n",
    "    "
   ]
  },
  {
   "cell_type": "code",
   "execution_count": 15,
   "id": "b5be6f48-d687-4244-83df-11800d457967",
   "metadata": {},
   "outputs": [
    {
     "data": {
      "text/plain": [
       "<Popen: returncode: None args: ['C:\\\\WPy64-39100\\\\python-3.9.10.amd64\\\\pytho...>"
      ]
     },
     "execution_count": 15,
     "metadata": {},
     "output_type": "execute_result"
    }
   ],
   "source": [
    "view(rotated)"
   ]
  },
  {
   "cell_type": "code",
   "execution_count": 36,
   "id": "a379c13e-61af-4b59-8cdb-39db44497ad4",
   "metadata": {},
   "outputs": [],
   "source": [
    "rotated[0].write('Zr11m20Rot1.vasp', direct=True, sort=True)\n",
    "rotated[1].write('Zr11m20Rot2.vasp', direct=True, sort=True)\n",
    "rotated[2].write('Zr11m20Rot3.vasp', direct=True, sort=True)\n",
    "rotated[3].write('Zr11m20Rot4.vasp', direct=True, sort=True)\n",
    "rotated[4].write('Zr11m20Rot5.vasp', direct=True, sort=True)\n",
    "rotated[5].write('Zr11m20Rot6.vasp', direct=True, sort=True)"
   ]
  },
  {
   "cell_type": "code",
   "execution_count": null,
   "id": "c4763f01-51fa-43fa-837a-0fa1b7186934",
   "metadata": {},
   "outputs": [],
   "source": []
  }
 ],
 "metadata": {
  "kernelspec": {
   "display_name": "Python 3 (ipykernel)",
   "language": "python",
   "name": "python3"
  },
  "language_info": {
   "codemirror_mode": {
    "name": "ipython",
    "version": 3
   },
   "file_extension": ".py",
   "mimetype": "text/x-python",
   "name": "python",
   "nbconvert_exporter": "python",
   "pygments_lexer": "ipython3",
   "version": "3.9.10"
  }
 },
 "nbformat": 4,
 "nbformat_minor": 5
}
